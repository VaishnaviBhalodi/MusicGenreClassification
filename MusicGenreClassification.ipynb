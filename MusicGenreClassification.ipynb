{
  "nbformat": 4,
  "nbformat_minor": 0,
  "metadata": {
    "colab": {
      "provenance": [],
      "authorship_tag": "ABX9TyNTa5NIIDy88LIns2b74n8h",
      "include_colab_link": true
    },
    "kernelspec": {
      "name": "python3",
      "display_name": "Python 3"
    },
    "language_info": {
      "name": "python"
    }
  },
  "cells": [
    {
      "cell_type": "markdown",
      "metadata": {
        "id": "view-in-github",
        "colab_type": "text"
      },
      "source": [
        "<a href=\"https://colab.research.google.com/github/VaishnaviBhalodi/MusicGenreClassification/blob/main/MusicGenreClassification.ipynb\" target=\"_parent\"><img src=\"https://colab.research.google.com/assets/colab-badge.svg\" alt=\"Open In Colab\"/></a>"
      ]
    },
    {
      "cell_type": "code",
      "execution_count": 1,
      "metadata": {
        "id": "ma0w76LehCAR"
      },
      "outputs": [],
      "source": [
        "import numpy as np #linear algebra\n",
        "import pandas as pd #data preprocessing\n",
        "import os\n",
        "import json\n",
        "import json\n",
        "import librosa\n",
        "import matplotlib.pyplot as plt\n",
        "from sklearn.model_selection import train_test_split\n",
        "import tensorflow as tf"
      ]
    },
    {
      "cell_type": "code",
      "source": [
        "from google.colab import drive\n",
        "drive.mount('/content/drive')"
      ],
      "metadata": {
        "colab": {
          "base_uri": "https://localhost:8080/"
        },
        "id": "HucRK6cxi_g_",
        "outputId": "b6bd07a9-d307-45c1-93c2-982867c64f26"
      },
      "execution_count": 2,
      "outputs": [
        {
          "output_type": "stream",
          "name": "stdout",
          "text": [
            "Mounted at /content/drive\n"
          ]
        }
      ]
    },
    {
      "cell_type": "code",
      "source": [
        "SOURCE_PATH = \"/content/drive/MyDrive/GTZAN/Data/genres_original/\""
      ],
      "metadata": {
        "id": "SY06GsuYjCMw"
      },
      "execution_count": 3,
      "outputs": []
    },
    {
      "cell_type": "code",
      "source": [
        "#Path to labels and processed data file, json format\n",
        "JSON_PATH = \"/content/drive/MyDrive/GTZAN/data.json\""
      ],
      "metadata": {
        "id": "SsQcUazujERA"
      },
      "execution_count": 4,
      "outputs": []
    },
    {
      "cell_type": "code",
      "source": [
        "#Sampling rate\n",
        "sr = 22050\n",
        "\n",
        "#Making sure that all files have the same amount of samples \n",
        "#and so picking a duration right under 30 seconds\n",
        "TOTAL_SAMPLES = 29*sr\n",
        "\n",
        "#Data Augmentation\n",
        "#We have only 999 files, which is pretty low in number\n",
        "#X Amount of Slices = X times more training samples\n",
        "NUM_SLICES = 10\n",
        "SAMPLES_PER_SLICE = int(TOTAL_SAMPLES/NUM_SLICES)"
      ],
      "metadata": {
        "id": "oDVfaKY6jTLh"
      },
      "execution_count": 5,
      "outputs": []
    },
    {
      "cell_type": "code",
      "source": [
        "def preprocess_data(source_path, json_path):\n",
        "  #Dictionary of labels and preprocessed data\n",
        "  mydict = {\n",
        "      \"labels\" : [],\n",
        "      \"mfcc\" : []\n",
        "  }\n",
        "\n",
        "  #Browsing through each file, slice it and generate the 13 band mfcc for each slice\n",
        "\n",
        "  for i, (dirpath, dirnames, filenames) in enumerate(os.walk(SOURCE_PATH)):\n",
        "    for file in filenames:\n",
        "      #Excluding the corrupted wav file\n",
        "      if os.path.join(dirpath,file) != '/content/drive/MyDrive/GTZAN/Data/genres_original/jazz/jazz.00054.wav':\n",
        "        song, sr = librosa.load(os.path.join(dirpath, file), duration=29)\n",
        "        for s in range(NUM_SLICES):\n",
        "          start_sample = SAMPLES_PER_SLICE * s\n",
        "          end_sample = start_sample + SAMPLES_PER_SLICE\n",
        "          mfcc = librosa.feature.mfcc(y=song[start_sample:end_sample], sr=sr, n_mfcc=13)\n",
        "          mfcc = mfcc.T\n",
        "          mydict[\"labels\"].append(i-1)\n",
        "          mydict[\"mfcc\"].append(mfcc.tolist())\n",
        "        else:\n",
        "          pass\n",
        "\n",
        "  #Dictinoary to JSON File\n",
        "  with open(json_path, 'w') as f:\n",
        "    json.dump(mydict, f)\n",
        "  f.close()\n"
      ],
      "metadata": {
        "id": "IFk-uOiwjWeL"
      },
      "execution_count": 6,
      "outputs": []
    },
    {
      "cell_type": "code",
      "source": [
        "def load_data(json_path):\n",
        "  with open(json_path, 'r') as f:\n",
        "    data = json.load(f)\n",
        "  f.close()\n",
        "\n",
        "  #Loading data into numpy arrays for Tensorflow compatibility\n",
        "  X = np.array(data[\"mfcc\"])\n",
        "  y = np.array(data[\"labels\"])\n",
        "\n",
        "  return X, y"
      ],
      "metadata": {
        "id": "Nfwyxn18jZla"
      },
      "execution_count": 7,
      "outputs": []
    },
    {
      "cell_type": "code",
      "source": [
        "def prepare_datasets(inputs, targets, split_size):\n",
        "  #Creating a validation set and test set\n",
        "  inputs_train, inputs_val, targets_train, targets_val = train_test_split(inputs, targets, test_size=split_size)\n",
        "  inputs_train, inputs_test, targets_train, targets_test = train_test_split(inputs_train, targets_train, test_size=split_size)\n",
        "\n",
        "  #CNN Models expects 3D input shape\n",
        "  inputs_train = inputs_train[..., np.newaxis]\n",
        "  inputs_val = inputs_val[..., np.newaxis]\n",
        "  inputs_test = inputs_test[..., np.newaxis]\n",
        "\n",
        "  return inputs_train, inputs_val, inputs_test, targets_train, targets_val, targets_test"
      ],
      "metadata": {
        "id": "uBb1F8tyjdKV"
      },
      "execution_count": 8,
      "outputs": []
    },
    {
      "cell_type": "code",
      "source": [
        "def design_model(input_shape):\n",
        "  #Model Architecture\n",
        "  model = tf.keras.models.Sequential([\n",
        "      \n",
        "      tf.keras.layers.Conv2D(32, (3,3), activation='relu', input_shape=input_shape),\n",
        "      tf.keras.layers.MaxPooling2D((3,3), strides=(2,2), padding='same'),\n",
        "      tf.keras.layers.BatchNormalization(),\n",
        "\n",
        "      tf.keras.layers.Conv2D(32, (3,3), activation='relu', input_shape=input_shape),\n",
        "      tf.keras.layers.MaxPooling2D((3,3), strides=(2,2), padding='same'),\n",
        "      tf.keras.layers.BatchNormalization(),\n",
        "\n",
        "      tf.keras.layers.Conv2D(32, (2,2), activation='relu', input_shape=input_shape),\n",
        "      tf.keras.layers.MaxPooling2D((3,3), strides=(2,2), padding='same'),\n",
        "      tf.keras.layers.BatchNormalization(),\n",
        "\n",
        "      tf.keras.layers.Dropout(0.3),\n",
        "\n",
        "      tf.keras.layers.Flatten(),\n",
        "      tf.keras.layers.Dense(64, activation='relu'),\n",
        "      tf.keras.layers.Dense(len(np.unique(targets)), activation='softmax')\n",
        "  ])\n",
        "\n",
        "  return model"
      ],
      "metadata": {
        "id": "LqRcncATjfjf"
      },
      "execution_count": 9,
      "outputs": []
    },
    {
      "cell_type": "code",
      "source": [
        "def make_prediction(model, X, y, idx):\n",
        "  genre_dict = {\n",
        "      0: \"blues\",\n",
        "      1: \"classical\",\n",
        "      2: \"country\",\n",
        "      3: \"disco\", \n",
        "      4: \"hiphop\",\n",
        "      5: \"jazz\",\n",
        "      6: \"metal\", \n",
        "      7: \"pop\",\n",
        "      8: \"reggae\",\n",
        "      9: \"rock\",\n",
        "  }\n",
        "\n",
        "  predictions = model.predict(X)\n",
        "  genre = np.argmax(predictions[idx])\n",
        "\n",
        "  print(\"\\n Now testing the model for one audio file\\n\\nThe model predicts: {}, and ground truth is: {}.\\n\".format(\n",
        "      genre_dict[genre], genre_dict[y[idx]]))"
      ],
      "metadata": {
        "id": "fpI_CWRSjjmQ"
      },
      "execution_count": 10,
      "outputs": []
    },
    {
      "cell_type": "code",
      "source": [
        "def plot_performance(hist):\n",
        "  acc = hist.history['acc']\n",
        "  val_acc = hist.history['val_acc']\n",
        "  loss = hist.history['loss']\n",
        "  val_loss = hist.history['val_loss']\n",
        "\n",
        "  epochs = range(len(acc))\n",
        "\n",
        "  plt.plot(epochs, acc, 'r', label='Training Accuracy')\n",
        "  plt.plot(epochs, val_acc, 'b', label='Validation Accuracy')\n",
        "  plt.title('Training and Validation Accuracy')\n",
        "  plt.legend()\n",
        "  plt.figure()\n",
        "\n",
        "  plt.plot(epochs, loss, 'r', label='Training Loss')\n",
        "  plt.plot(epochs, val_loss, 'b', label='Validation Loss')\n",
        "  plt.title('Training and Validation Loss')\n",
        "  plt.legend()\n",
        "\n",
        "  plt.show()"
      ],
      "metadata": {
        "id": "M-PV6DjpjmRu"
      },
      "execution_count": 11,
      "outputs": []
    },
    {
      "cell_type": "code",
      "source": [
        "if __name__ == \"__main__\":\n",
        "  preprocess_data(source_path = SOURCE_PATH, json_path = JSON_PATH)\n",
        "  inputs, targets = load_data(json_path=JSON_PATH)\n",
        "\n",
        "  Xtrain, Xval, Xtest, ytrain, yval, ytest = prepare_datasets(inputs, targets, 0.2)\n",
        "\n",
        "  input_shape = (Xtrain.shape[1], Xtrain.shape[2], 1)\n",
        "  model = design_model(input_shape)\n",
        "\n",
        "  #Selection of the optimizer, loss type and metric for performace evaluation\n",
        "  model.compile(optimizer = tf.keras.optimizers.RMSprop(lr=0.001),\n",
        "                loss='sparse_categorical_crossentropy',\n",
        "                metrics = ['acc'])\n",
        "  model.summary()\n",
        "\n",
        "  #Training the model\n",
        "  history = model.fit(Xtrain, ytrain, validation_data=(Xval, yval),\n",
        "                      epochs=30,\n",
        "                      batch_size=32)\n",
        "  \n",
        "  plot_performance(history)\n",
        "\n",
        "  #Testing the model on never seen before data\n",
        "  make_prediction(model, Xtest, ytest, 24)"
      ],
      "metadata": {
        "colab": {
          "base_uri": "https://localhost:8080/",
          "height": 356
        },
        "id": "0biqDuSPjo1A",
        "outputId": "f60deb58-e249-48b4-eaa9-549345e077bc"
      },
      "execution_count": 12,
      "outputs": [
        {
          "output_type": "error",
          "ename": "FileNotFoundError",
          "evalue": "ignored",
          "traceback": [
            "\u001b[0;31m---------------------------------------------------------------------------\u001b[0m",
            "\u001b[0;31mFileNotFoundError\u001b[0m                         Traceback (most recent call last)",
            "\u001b[0;32m<ipython-input-12-98bd10c36c01>\u001b[0m in \u001b[0;36m<module>\u001b[0;34m\u001b[0m\n\u001b[1;32m      1\u001b[0m \u001b[0;32mif\u001b[0m \u001b[0m__name__\u001b[0m \u001b[0;34m==\u001b[0m \u001b[0;34m\"__main__\"\u001b[0m\u001b[0;34m:\u001b[0m\u001b[0;34m\u001b[0m\u001b[0;34m\u001b[0m\u001b[0m\n\u001b[0;32m----> 2\u001b[0;31m   \u001b[0mpreprocess_data\u001b[0m\u001b[0;34m(\u001b[0m\u001b[0msource_path\u001b[0m \u001b[0;34m=\u001b[0m \u001b[0mSOURCE_PATH\u001b[0m\u001b[0;34m,\u001b[0m \u001b[0mjson_path\u001b[0m \u001b[0;34m=\u001b[0m \u001b[0mJSON_PATH\u001b[0m\u001b[0;34m)\u001b[0m\u001b[0;34m\u001b[0m\u001b[0;34m\u001b[0m\u001b[0m\n\u001b[0m\u001b[1;32m      3\u001b[0m   \u001b[0minputs\u001b[0m\u001b[0;34m,\u001b[0m \u001b[0mtargets\u001b[0m \u001b[0;34m=\u001b[0m \u001b[0mload_data\u001b[0m\u001b[0;34m(\u001b[0m\u001b[0mjson_path\u001b[0m\u001b[0;34m=\u001b[0m\u001b[0mJSON_PATH\u001b[0m\u001b[0;34m)\u001b[0m\u001b[0;34m\u001b[0m\u001b[0;34m\u001b[0m\u001b[0m\n\u001b[1;32m      4\u001b[0m \u001b[0;34m\u001b[0m\u001b[0m\n\u001b[1;32m      5\u001b[0m   \u001b[0mXtrain\u001b[0m\u001b[0;34m,\u001b[0m \u001b[0mXval\u001b[0m\u001b[0;34m,\u001b[0m \u001b[0mXtest\u001b[0m\u001b[0;34m,\u001b[0m \u001b[0mytrain\u001b[0m\u001b[0;34m,\u001b[0m \u001b[0myval\u001b[0m\u001b[0;34m,\u001b[0m \u001b[0mytest\u001b[0m \u001b[0;34m=\u001b[0m \u001b[0mprepare_datasets\u001b[0m\u001b[0;34m(\u001b[0m\u001b[0minputs\u001b[0m\u001b[0;34m,\u001b[0m \u001b[0mtargets\u001b[0m\u001b[0;34m,\u001b[0m \u001b[0;36m0.2\u001b[0m\u001b[0;34m)\u001b[0m\u001b[0;34m\u001b[0m\u001b[0;34m\u001b[0m\u001b[0m\n",
            "\u001b[0;32m<ipython-input-6-ebbd02b10477>\u001b[0m in \u001b[0;36mpreprocess_data\u001b[0;34m(source_path, json_path)\u001b[0m\n\u001b[1;32m     24\u001b[0m \u001b[0;34m\u001b[0m\u001b[0m\n\u001b[1;32m     25\u001b[0m   \u001b[0;31m#Dictinoary to JSON File\u001b[0m\u001b[0;34m\u001b[0m\u001b[0;34m\u001b[0m\u001b[0m\n\u001b[0;32m---> 26\u001b[0;31m   \u001b[0;32mwith\u001b[0m \u001b[0mopen\u001b[0m\u001b[0;34m(\u001b[0m\u001b[0mjson_path\u001b[0m\u001b[0;34m,\u001b[0m \u001b[0;34m'w'\u001b[0m\u001b[0;34m)\u001b[0m \u001b[0;32mas\u001b[0m \u001b[0mf\u001b[0m\u001b[0;34m:\u001b[0m\u001b[0;34m\u001b[0m\u001b[0;34m\u001b[0m\u001b[0m\n\u001b[0m\u001b[1;32m     27\u001b[0m     \u001b[0mjson\u001b[0m\u001b[0;34m.\u001b[0m\u001b[0mdump\u001b[0m\u001b[0;34m(\u001b[0m\u001b[0mmydict\u001b[0m\u001b[0;34m,\u001b[0m \u001b[0mf\u001b[0m\u001b[0;34m)\u001b[0m\u001b[0;34m\u001b[0m\u001b[0;34m\u001b[0m\u001b[0m\n\u001b[1;32m     28\u001b[0m   \u001b[0mf\u001b[0m\u001b[0;34m.\u001b[0m\u001b[0mclose\u001b[0m\u001b[0;34m(\u001b[0m\u001b[0;34m)\u001b[0m\u001b[0;34m\u001b[0m\u001b[0;34m\u001b[0m\u001b[0m\n",
            "\u001b[0;31mFileNotFoundError\u001b[0m: [Errno 2] No such file or directory: '/content/drive/MyDrive/GTZAN/data.json'"
          ]
        }
      ]
    }
  ]
}